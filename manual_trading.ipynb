{
 "cells": [
  {
   "cell_type": "code",
   "execution_count": 1,
   "id": "5ab6eb17",
   "metadata": {},
   "outputs": [],
   "source": [
    "import numpy as np\n",
    "import pandas as pd\n",
    "import plotly.express as px\n",
    "from scipy.optimize import minimize"
   ]
  },
  {
   "cell_type": "markdown",
   "id": "96ca1bdc",
   "metadata": {},
   "source": [
    "### Round 1"
   ]
  },
  {
   "cell_type": "code",
   "execution_count": 2,
   "id": "1af5bfe2",
   "metadata": {},
   "outputs": [],
   "source": [
    "def F(x, a, b):\n",
    "    return a * (x**2 - 900**2) / 2 + b * (x - 900)\n",
    "\n",
    "def E(p, a, b):\n",
    "    x, y = p\n",
    "    return -((1000 - x) * F(x, a, b) + (1000 - y) * (F(y, a, b) - F(x, a, b)))"
   ]
  },
  {
   "cell_type": "code",
   "execution_count": 3,
   "id": "bcf843e8",
   "metadata": {},
   "outputs": [
    {
     "name": "stdout",
     "output_type": "stream",
     "text": [
      "[952.17325585 978.26053329]\n"
     ]
    }
   ],
   "source": [
    "res = minimize(E, (950, 950), args=(1/5000, -0.18))\n",
    "print(res.x)"
   ]
  },
  {
   "cell_type": "markdown",
   "id": "fd6903aa",
   "metadata": {},
   "source": [
    "### Round 3"
   ]
  },
  {
   "cell_type": "code",
   "execution_count": 4,
   "id": "0dea56f3",
   "metadata": {},
   "outputs": [],
   "source": [
    "multipliers = pd.DataFrame([\n",
    "    [24, 70, 41, 21, 60],\n",
    "    [47, 82, 87, 80, 35],\n",
    "    [73, 89, 100, 90, 17],\n",
    "    [77, 83, 85, 79, 55],\n",
    "    [12, 27, 52, 15, 30]\n",
    "], index=['a', 'b', 'c', 'd', 'e'])\n",
    "hunters = pd.DataFrame([\n",
    "    [2, 4, 3, 2, 4],\n",
    "    [3, 5, 5, 5, 3],\n",
    "    [4, 5, 8, 7, 2],\n",
    "    [5, 5, 5, 5, 4],\n",
    "    [2, 3, 4, 2, 3]\n",
    "], index=['a', 'b', 'c', 'd', 'e'])"
   ]
  },
  {
   "cell_type": "code",
   "execution_count": 5,
   "id": "c26d6bae",
   "metadata": {},
   "outputs": [],
   "source": [
    "def get_max(df, n):\n",
    "    data = df.copy()\n",
    "    for i in range(n):\n",
    "        m = data.max().max()\n",
    "        idx, col = data.max(axis='columns').idxmax(), data.max().idxmax()\n",
    "        print(idx, col, m)\n",
    "        data[data == m] = 0"
   ]
  },
  {
   "cell_type": "code",
   "execution_count": 6,
   "id": "9140a58a",
   "metadata": {},
   "outputs": [
    {
     "data": {
      "text/html": [
       "<div>\n",
       "<style scoped>\n",
       "    .dataframe tbody tr th:only-of-type {\n",
       "        vertical-align: middle;\n",
       "    }\n",
       "\n",
       "    .dataframe tbody tr th {\n",
       "        vertical-align: top;\n",
       "    }\n",
       "\n",
       "    .dataframe thead th {\n",
       "        text-align: right;\n",
       "    }\n",
       "</style>\n",
       "<table border=\"1\" class=\"dataframe\">\n",
       "  <thead>\n",
       "    <tr style=\"text-align: right;\">\n",
       "      <th></th>\n",
       "      <th>0</th>\n",
       "      <th>1</th>\n",
       "      <th>2</th>\n",
       "      <th>3</th>\n",
       "      <th>4</th>\n",
       "    </tr>\n",
       "  </thead>\n",
       "  <tbody>\n",
       "    <tr>\n",
       "      <th>a</th>\n",
       "      <td>90000.0</td>\n",
       "      <td>131250.0</td>\n",
       "      <td>102500.0</td>\n",
       "      <td>78750.0</td>\n",
       "      <td>112500.0</td>\n",
       "    </tr>\n",
       "    <tr>\n",
       "      <th>b</th>\n",
       "      <td>117500.0</td>\n",
       "      <td>123000.0</td>\n",
       "      <td>130500.0</td>\n",
       "      <td>120000.0</td>\n",
       "      <td>87500.0</td>\n",
       "    </tr>\n",
       "    <tr>\n",
       "      <th>c</th>\n",
       "      <td>136875.0</td>\n",
       "      <td>133500.0</td>\n",
       "      <td>93750.0</td>\n",
       "      <td>96429.0</td>\n",
       "      <td>63750.0</td>\n",
       "    </tr>\n",
       "    <tr>\n",
       "      <th>d</th>\n",
       "      <td>115500.0</td>\n",
       "      <td>124500.0</td>\n",
       "      <td>127500.0</td>\n",
       "      <td>118500.0</td>\n",
       "      <td>103125.0</td>\n",
       "    </tr>\n",
       "    <tr>\n",
       "      <th>e</th>\n",
       "      <td>45000.0</td>\n",
       "      <td>67500.0</td>\n",
       "      <td>97500.0</td>\n",
       "      <td>56250.0</td>\n",
       "      <td>75000.0</td>\n",
       "    </tr>\n",
       "  </tbody>\n",
       "</table>\n",
       "</div>"
      ],
      "text/plain": [
       "          0         1         2         3         4\n",
       "a   90000.0  131250.0  102500.0   78750.0  112500.0\n",
       "b  117500.0  123000.0  130500.0  120000.0   87500.0\n",
       "c  136875.0  133500.0   93750.0   96429.0   63750.0\n",
       "d  115500.0  124500.0  127500.0  118500.0  103125.0\n",
       "e   45000.0   67500.0   97500.0   56250.0   75000.0"
      ]
     },
     "metadata": {},
     "output_type": "display_data"
    },
    {
     "name": "stdout",
     "output_type": "stream",
     "text": [
      "c 0 136875.0\n",
      "c 1 133500.0\n",
      "a 1 131250.0\n"
     ]
    }
   ],
   "source": [
    "profit = np.round(multipliers/hunters*7500)\n",
    "display(profit)\n",
    "get_max(profit, 3)"
   ]
  },
  {
   "cell_type": "code",
   "execution_count": 7,
   "id": "bf62c98e",
   "metadata": {},
   "outputs": [
    {
     "data": {
      "text/html": [
       "<div>\n",
       "<style scoped>\n",
       "    .dataframe tbody tr th:only-of-type {\n",
       "        vertical-align: middle;\n",
       "    }\n",
       "\n",
       "    .dataframe tbody tr th {\n",
       "        vertical-align: top;\n",
       "    }\n",
       "\n",
       "    .dataframe thead th {\n",
       "        text-align: right;\n",
       "    }\n",
       "</style>\n",
       "<table border=\"1\" class=\"dataframe\">\n",
       "  <thead>\n",
       "    <tr style=\"text-align: right;\">\n",
       "      <th></th>\n",
       "      <th>0</th>\n",
       "      <th>1</th>\n",
       "      <th>2</th>\n",
       "      <th>3</th>\n",
       "      <th>4</th>\n",
       "    </tr>\n",
       "  </thead>\n",
       "  <tbody>\n",
       "    <tr>\n",
       "      <th>a</th>\n",
       "      <td>32538.0</td>\n",
       "      <td>57372.0</td>\n",
       "      <td>43788.0</td>\n",
       "      <td>30940.0</td>\n",
       "      <td>53476.0</td>\n",
       "    </tr>\n",
       "    <tr>\n",
       "      <th>b</th>\n",
       "      <td>46314.0</td>\n",
       "      <td>62583.0</td>\n",
       "      <td>64468.0</td>\n",
       "      <td>61797.0</td>\n",
       "      <td>40800.0</td>\n",
       "    </tr>\n",
       "    <tr>\n",
       "      <th>c</th>\n",
       "      <td>58422.0</td>\n",
       "      <td>65192.0</td>\n",
       "      <td>64217.0</td>\n",
       "      <td>62591.0</td>\n",
       "      <td>28322.0</td>\n",
       "    </tr>\n",
       "    <tr>\n",
       "      <th>d</th>\n",
       "      <td>60581.0</td>\n",
       "      <td>62969.0</td>\n",
       "      <td>63727.0</td>\n",
       "      <td>61397.0</td>\n",
       "      <td>51261.0</td>\n",
       "    </tr>\n",
       "    <tr>\n",
       "      <th>e</th>\n",
       "      <td>23898.0</td>\n",
       "      <td>35847.0</td>\n",
       "      <td>49832.0</td>\n",
       "      <td>26738.0</td>\n",
       "      <td>37858.0</td>\n",
       "    </tr>\n",
       "  </tbody>\n",
       "</table>\n",
       "</div>"
      ],
      "text/plain": [
       "         0        1        2        3        4\n",
       "a  32538.0  57372.0  43788.0  30940.0  53476.0\n",
       "b  46314.0  62583.0  64468.0  61797.0  40800.0\n",
       "c  58422.0  65192.0  64217.0  62591.0  28322.0\n",
       "d  60581.0  62969.0  63727.0  61397.0  51261.0\n",
       "e  23898.0  35847.0  49832.0  26738.0  37858.0"
      ]
     },
     "metadata": {},
     "output_type": "display_data"
    },
    {
     "name": "stdout",
     "output_type": "stream",
     "text": [
      "c 1 65192.0\n",
      "b 2 64468.0\n",
      "c 2 64217.0\n"
     ]
    }
   ],
   "source": [
    "w = profit / profit.sum().sum() * 100\n",
    "profit = np.round(multipliers/(hunters+w)*7500)\n",
    "display(profit)\n",
    "get_max(profit, 3)"
   ]
  },
  {
   "cell_type": "markdown",
   "id": "706c9f54",
   "metadata": {},
   "source": [
    "### Round 4"
   ]
  },
  {
   "cell_type": "code",
   "execution_count": 8,
   "id": "ff39359c",
   "metadata": {},
   "outputs": [],
   "source": [
    "def F(x, a, b):\n",
    "    if 900 <= x <= 1000:\n",
    "        return a * (x**2 - 900**2) / 2 + b * (x - 900)\n",
    "    elif x > 1000:\n",
    "        return 1\n",
    "    else:\n",
    "        return 0\n",
    "\n",
    "def E(p, a, b, mean):\n",
    "    x, y = p\n",
    "    if y < mean:\n",
    "        return -((1000 - x) * F(x, a, b) + (1000 - mean) * (F(y, a, b) - F(x, a, b)))\n",
    "    else:\n",
    "        return -((1000 - x) * F(x, a, b) + (1000 - y) * (F(y, a, b) - F(x, a, b)))"
   ]
  },
  {
   "cell_type": "code",
   "execution_count": 10,
   "id": "c7f04abd",
   "metadata": {},
   "outputs": [
    {
     "name": "stdout",
     "output_type": "stream",
     "text": [
      "Mean: 978\n",
      "Optimal Bids: [952. 978.]\n",
      "Global Expectation: 19.63442000000006\n",
      "-----\n",
      "Mean: 979\n",
      "Optimal Bids: [953. 979.]\n",
      "Global Expectation: 19.68878000000005\n",
      "-----\n",
      "Mean: 980\n",
      "Optimal Bids: [944. 980.]\n",
      "Global Expectation: 18.92144000000006\n",
      "-----\n",
      "Mean: 981\n",
      "Optimal Bids: [946. 981.]\n",
      "Global Expectation: 19.11180500000004\n",
      "-----\n",
      "Mean: 982\n",
      "Optimal Bids: [955. 982.]\n",
      "Global Expectation: 19.70475300000003\n",
      "-----\n",
      "Mean: 983\n",
      "Optimal Bids: [955. 983.]\n",
      "Global Expectation: 19.65579600000002\n",
      "-----\n",
      "Mean: 984\n",
      "Optimal Bids: [956. 984.]\n",
      "Global Expectation: 19.60000000000006\n",
      "-----\n",
      "Mean: 985\n",
      "Optimal Bids: [956. 985.]\n",
      "Global Expectation: 19.502555000000044\n",
      "-----\n",
      "Mean: 986\n",
      "Optimal Bids: [959. 986.]\n",
      "Global Expectation: 19.39683500000006\n",
      "-----\n",
      "Mean: 987\n",
      "Optimal Bids: [958. 987.]\n",
      "Global Expectation: 19.267310000000023\n",
      "-----\n",
      "Mean: 988\n",
      "Optimal Bids: [959. 988.]\n",
      "Global Expectation: 19.106342\n",
      "-----\n",
      "Mean: 989\n",
      "Optimal Bids: [959. 989.]\n",
      "Global Expectation: 18.911899999999992\n",
      "-----\n",
      "Mean: 990\n",
      "Optimal Bids: [960. 990.]\n",
      "Global Expectation: 18.697500000000073\n",
      "-----\n",
      "Mean: 991\n",
      "Optimal Bids: [961. 991.]\n",
      "Global Expectation: 18.451740000000015\n",
      "-----\n",
      "Mean: 992\n",
      "Optimal Bids: [961. 992.]\n",
      "Global Expectation: 18.173495999999986\n",
      "-----\n",
      "Mean: 993\n",
      "Optimal Bids: [962. 993.]\n",
      "Global Expectation: 17.86979500000007\n",
      "-----\n",
      "Mean: 994\n",
      "Optimal Bids: [963. 994.]\n",
      "Global Expectation: 17.53249500000005\n",
      "-----\n",
      "Mean: 995\n",
      "Optimal Bids: [963. 995.]\n",
      "Global Expectation: 17.16274000000005\n",
      "-----\n",
      "Mean: 996\n",
      "Optimal Bids: [971. 991.]\n",
      "Global Expectation: 17.418260000000053\n",
      "-----\n",
      "Mean: 997\n",
      "Optimal Bids: [964. 997.]\n",
      "Global Expectation: 16.32356100000004\n",
      "-----\n",
      "Mean: 998\n",
      "Optimal Bids: [970. 985.]\n",
      "Global Expectation: 17.943375000000017\n",
      "-----\n",
      "Mean: 999\n",
      "Optimal Bids: [966. 999.]\n",
      "Global Expectation: 15.354900000000042\n",
      "-----\n"
     ]
    }
   ],
   "source": [
    "for mean in range(978, 1000):\n",
    "    print('Mean:', mean)\n",
    "    res = minimize(E, (933, 966), args=(1/5000, -0.18, mean))\n",
    "    optimal_bids = np.round(res.x)\n",
    "    print('Optimal Bids:', optimal_bids)\n",
    "    expectation = 0\n",
    "    for mean_bis in range(900, 1000):\n",
    "        expectation += -E(optimal_bids, 1/5000, -0.18, mean_bis)\n",
    "    expectation /= len(range(900, 1000))\n",
    "    print('Global Expectation:', expectation)\n",
    "    print('-----')"
   ]
  }
 ],
 "metadata": {
  "kernelspec": {
   "display_name": "Python 3 (ipykernel)",
   "language": "python",
   "name": "python3"
  },
  "language_info": {
   "codemirror_mode": {
    "name": "ipython",
    "version": 3
   },
   "file_extension": ".py",
   "mimetype": "text/x-python",
   "name": "python",
   "nbconvert_exporter": "python",
   "pygments_lexer": "ipython3",
   "version": "3.11.1"
  }
 },
 "nbformat": 4,
 "nbformat_minor": 5
}
