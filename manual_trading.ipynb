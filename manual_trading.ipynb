{
 "cells": [
  {
   "cell_type": "code",
   "execution_count": 1,
   "id": "5ab6eb17",
   "metadata": {},
   "outputs": [],
   "source": [
    "import numpy as np\n",
    "import pandas as pd\n",
    "import plotly.express as px\n",
    "from scipy.optimize import minimize"
   ]
  },
  {
   "cell_type": "markdown",
   "id": "96ca1bdc",
   "metadata": {},
   "source": [
    "### Round 1"
   ]
  },
  {
   "cell_type": "code",
   "execution_count": 2,
   "id": "1af5bfe2",
   "metadata": {},
   "outputs": [],
   "source": [
    "def F(x, a, b):\n",
    "    return a * (x**2 - 900**2) / 2 + b * (x - 900)\n",
    "\n",
    "def E(p, a, b):\n",
    "    x, y = p\n",
    "    return -((1000 - x) * F(x, a, b) + (1000 - y) * (F(y, a, b) - F(x, a, b)))"
   ]
  },
  {
   "cell_type": "code",
   "execution_count": 3,
   "id": "bcf843e8",
   "metadata": {},
   "outputs": [
    {
     "name": "stdout",
     "output_type": "stream",
     "text": [
      "[952.17325585 978.26053329]\n"
     ]
    }
   ],
   "source": [
    "res = minimize(E, (950, 950), args=(1/5000, -0.18))\n",
    "print(res.x)"
   ]
  }
 ],
 "metadata": {
  "kernelspec": {
   "display_name": "Python 3 (ipykernel)",
   "language": "python",
   "name": "python3"
  },
  "language_info": {
   "codemirror_mode": {
    "name": "ipython",
    "version": 3
   },
   "file_extension": ".py",
   "mimetype": "text/x-python",
   "name": "python",
   "nbconvert_exporter": "python",
   "pygments_lexer": "ipython3",
   "version": "3.11.1"
  }
 },
 "nbformat": 4,
 "nbformat_minor": 5
}
