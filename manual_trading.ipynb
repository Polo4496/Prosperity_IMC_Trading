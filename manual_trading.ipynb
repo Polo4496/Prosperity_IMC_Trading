{
 "cells": [
  {
   "cell_type": "code",
   "execution_count": 1,
   "id": "5ab6eb17",
   "metadata": {},
   "outputs": [],
   "source": [
    "import numpy as np\n",
    "import pandas as pd\n",
    "import plotly.express as px\n",
    "from scipy.optimize import minimize"
   ]
  },
  {
   "cell_type": "markdown",
   "id": "96ca1bdc",
   "metadata": {},
   "source": [
    "### Round 1"
   ]
  },
  {
   "cell_type": "code",
   "execution_count": 2,
   "id": "1af5bfe2",
   "metadata": {},
   "outputs": [],
   "source": [
    "def F(x, a, b):\n",
    "    return a * (x**2 - 900**2) / 2 + b * (x - 900)\n",
    "\n",
    "def E(p, a, b):\n",
    "    x, y = p\n",
    "    return -((1000 - x) * F(x, a, b) + (1000 - y) * (F(y, a, b) - F(x, a, b)))"
   ]
  },
  {
   "cell_type": "code",
   "execution_count": 3,
   "id": "bcf843e8",
   "metadata": {},
   "outputs": [
    {
     "name": "stdout",
     "output_type": "stream",
     "text": [
      "[952.17325585 978.26053329]\n"
     ]
    }
   ],
   "source": [
    "res = minimize(E, (950, 950), args=(1/5000, -0.18))\n",
    "print(res.x)"
   ]
  },
  {
   "cell_type": "markdown",
   "id": "fd6903aa",
   "metadata": {},
   "source": [
    "### Round 3"
   ]
  },
  {
   "cell_type": "code",
   "execution_count": 21,
   "id": "0dea56f3",
   "metadata": {},
   "outputs": [],
   "source": [
    "multipliers = pd.DataFrame([\n",
    "    [24, 70, 41, 21, 60],\n",
    "    [47, 82, 87, 80, 35],\n",
    "    [73, 89, 100, 90, 17],\n",
    "    [77, 83, 85, 79, 55],\n",
    "    [12, 27, 52, 15, 30]\n",
    "], index=['a', 'b', 'c', 'd', 'e'])\n",
    "hunters = pd.DataFrame([\n",
    "    [2, 4, 3, 2, 4],\n",
    "    [3, 5, 5, 5, 3],\n",
    "    [4, 5, 8, 7, 2],\n",
    "    [5, 5, 5, 5, 4],\n",
    "    [2, 3, 4, 2, 3]\n",
    "], index=['a', 'b', 'c', 'd', 'e'])"
   ]
  },
  {
   "cell_type": "code",
   "execution_count": 50,
   "id": "c26d6bae",
   "metadata": {},
   "outputs": [],
   "source": [
    "def get_max(df, n):\n",
    "    data = df.copy()\n",
    "    for i in range(n):\n",
    "        m = data.max().max()\n",
    "        idx, col = data.max(axis='columns').idxmax(), data.max().idxmax()\n",
    "        print(idx, col, m)\n",
    "        data[data == m] = 0"
   ]
  },
  {
   "cell_type": "code",
   "execution_count": 55,
   "id": "9140a58a",
   "metadata": {},
   "outputs": [
    {
     "data": {
      "text/html": [
       "<div>\n",
       "<style scoped>\n",
       "    .dataframe tbody tr th:only-of-type {\n",
       "        vertical-align: middle;\n",
       "    }\n",
       "\n",
       "    .dataframe tbody tr th {\n",
       "        vertical-align: top;\n",
       "    }\n",
       "\n",
       "    .dataframe thead th {\n",
       "        text-align: right;\n",
       "    }\n",
       "</style>\n",
       "<table border=\"1\" class=\"dataframe\">\n",
       "  <thead>\n",
       "    <tr style=\"text-align: right;\">\n",
       "      <th></th>\n",
       "      <th>0</th>\n",
       "      <th>1</th>\n",
       "      <th>2</th>\n",
       "      <th>3</th>\n",
       "      <th>4</th>\n",
       "    </tr>\n",
       "  </thead>\n",
       "  <tbody>\n",
       "    <tr>\n",
       "      <th>a</th>\n",
       "      <td>90000.0</td>\n",
       "      <td>131250.0</td>\n",
       "      <td>102500.0</td>\n",
       "      <td>78750.0</td>\n",
       "      <td>112500.0</td>\n",
       "    </tr>\n",
       "    <tr>\n",
       "      <th>b</th>\n",
       "      <td>117500.0</td>\n",
       "      <td>123000.0</td>\n",
       "      <td>130500.0</td>\n",
       "      <td>120000.0</td>\n",
       "      <td>87500.0</td>\n",
       "    </tr>\n",
       "    <tr>\n",
       "      <th>c</th>\n",
       "      <td>136875.0</td>\n",
       "      <td>133500.0</td>\n",
       "      <td>93750.0</td>\n",
       "      <td>96429.0</td>\n",
       "      <td>63750.0</td>\n",
       "    </tr>\n",
       "    <tr>\n",
       "      <th>d</th>\n",
       "      <td>115500.0</td>\n",
       "      <td>124500.0</td>\n",
       "      <td>127500.0</td>\n",
       "      <td>118500.0</td>\n",
       "      <td>103125.0</td>\n",
       "    </tr>\n",
       "    <tr>\n",
       "      <th>e</th>\n",
       "      <td>45000.0</td>\n",
       "      <td>67500.0</td>\n",
       "      <td>97500.0</td>\n",
       "      <td>56250.0</td>\n",
       "      <td>75000.0</td>\n",
       "    </tr>\n",
       "  </tbody>\n",
       "</table>\n",
       "</div>"
      ],
      "text/plain": [
       "          0         1         2         3         4\n",
       "a   90000.0  131250.0  102500.0   78750.0  112500.0\n",
       "b  117500.0  123000.0  130500.0  120000.0   87500.0\n",
       "c  136875.0  133500.0   93750.0   96429.0   63750.0\n",
       "d  115500.0  124500.0  127500.0  118500.0  103125.0\n",
       "e   45000.0   67500.0   97500.0   56250.0   75000.0"
      ]
     },
     "metadata": {},
     "output_type": "display_data"
    },
    {
     "name": "stdout",
     "output_type": "stream",
     "text": [
      "c 0 136875.0\n",
      "c 1 133500.0\n",
      "a 1 131250.0\n"
     ]
    }
   ],
   "source": [
    "profit = np.round(multipliers/hunters*7500)\n",
    "display(profit)\n",
    "get_max(profit, 3)"
   ]
  },
  {
   "cell_type": "code",
   "execution_count": 54,
   "id": "bf62c98e",
   "metadata": {},
   "outputs": [
    {
     "data": {
      "text/html": [
       "<div>\n",
       "<style scoped>\n",
       "    .dataframe tbody tr th:only-of-type {\n",
       "        vertical-align: middle;\n",
       "    }\n",
       "\n",
       "    .dataframe tbody tr th {\n",
       "        vertical-align: top;\n",
       "    }\n",
       "\n",
       "    .dataframe thead th {\n",
       "        text-align: right;\n",
       "    }\n",
       "</style>\n",
       "<table border=\"1\" class=\"dataframe\">\n",
       "  <thead>\n",
       "    <tr style=\"text-align: right;\">\n",
       "      <th></th>\n",
       "      <th>0</th>\n",
       "      <th>1</th>\n",
       "      <th>2</th>\n",
       "      <th>3</th>\n",
       "      <th>4</th>\n",
       "    </tr>\n",
       "  </thead>\n",
       "  <tbody>\n",
       "    <tr>\n",
       "      <th>a</th>\n",
       "      <td>39050.0</td>\n",
       "      <td>61039.0</td>\n",
       "      <td>47223.0</td>\n",
       "      <td>35146.0</td>\n",
       "      <td>54291.0</td>\n",
       "    </tr>\n",
       "    <tr>\n",
       "      <th>b</th>\n",
       "      <td>52500.0</td>\n",
       "      <td>61384.0</td>\n",
       "      <td>64158.0</td>\n",
       "      <td>60266.0</td>\n",
       "      <td>41852.0</td>\n",
       "    </tr>\n",
       "    <tr>\n",
       "      <th>c</th>\n",
       "      <td>63038.0</td>\n",
       "      <td>65261.0</td>\n",
       "      <td>57034.0</td>\n",
       "      <td>56158.0</td>\n",
       "      <td>29850.0</td>\n",
       "    </tr>\n",
       "    <tr>\n",
       "      <th>d</th>\n",
       "      <td>58579.0</td>\n",
       "      <td>61941.0</td>\n",
       "      <td>63052.0</td>\n",
       "      <td>59705.0</td>\n",
       "      <td>50857.0</td>\n",
       "    </tr>\n",
       "    <tr>\n",
       "      <th>e</th>\n",
       "      <td>22979.0</td>\n",
       "      <td>34469.0</td>\n",
       "      <td>48772.0</td>\n",
       "      <td>27146.0</td>\n",
       "      <td>37276.0</td>\n",
       "    </tr>\n",
       "  </tbody>\n",
       "</table>\n",
       "</div>"
      ],
      "text/plain": [
       "         0        1        2        3        4\n",
       "a  39050.0  61039.0  47223.0  35146.0  54291.0\n",
       "b  52500.0  61384.0  64158.0  60266.0  41852.0\n",
       "c  63038.0  65261.0  57034.0  56158.0  29850.0\n",
       "d  58579.0  61941.0  63052.0  59705.0  50857.0\n",
       "e  22979.0  34469.0  48772.0  27146.0  37276.0"
      ]
     },
     "metadata": {},
     "output_type": "display_data"
    },
    {
     "name": "stdout",
     "output_type": "stream",
     "text": [
      "c 1 65261.0\n",
      "b 2 64158.0\n",
      "d 2 63052.0\n"
     ]
    }
   ],
   "source": [
    "w = profit / profit.sum().sum() * 100\n",
    "profit = np.round(multipliers/(hunters+w)*7500)\n",
    "display(profit)\n",
    "get_max(profit, 3)"
   ]
  }
 ],
 "metadata": {
  "kernelspec": {
   "display_name": "Python 3 (ipykernel)",
   "language": "python",
   "name": "python3"
  },
  "language_info": {
   "codemirror_mode": {
    "name": "ipython",
    "version": 3
   },
   "file_extension": ".py",
   "mimetype": "text/x-python",
   "name": "python",
   "nbconvert_exporter": "python",
   "pygments_lexer": "ipython3",
   "version": "3.11.1"
  }
 },
 "nbformat": 4,
 "nbformat_minor": 5
}
